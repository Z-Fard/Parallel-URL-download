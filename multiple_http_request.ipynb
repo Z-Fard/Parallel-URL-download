{
 "cells": [
  {
   "cell_type": "code",
   "execution_count": 89,
   "id": "62934b9e",
   "metadata": {},
   "outputs": [],
   "source": [
    "import requests\n",
    "import time\n",
    "from multiprocessing import cpu_count\n",
    "from multiprocessing.pool import ThreadPool\n",
    "import threading\n",
    "from functools import wraps\n",
    "import concurrent.futures\n",
    "requests.packages.urllib3.disable_warnings()"
   ]
  },
  {
   "cell_type": "code",
   "execution_count": 90,
   "id": "99cc302b",
   "metadata": {},
   "outputs": [],
   "source": [
    "urls = ['https://www.northwestknowledge.net/metdata/data/pr_1979.nc',\n",
    "'https://www.northwestknowledge.net/metdata/data/pr_1980.nc',\n",
    "'https://www.northwestknowledge.net/metdata/data/pr_1981.nc',\n",
    "'https://www.northwestknowledge.net/metdata/data/pr_1982.nc']"
   ]
  },
  {
   "cell_type": "code",
   "execution_count": 91,
   "id": "0a39944c",
   "metadata": {},
   "outputs": [],
   "source": [
    "fns = [r'C:\\Users\\zhemati\\Documents\\git_zhf\\downloads\\pr_1979.nc',\n",
    "r'C:\\Users\\zhemati\\Documents\\git_zhf\\downloads\\pr_1980.nc',\n",
    "r'C:\\Users\\zhemati\\Documents\\git_zhf\\downloads\\pr_1981.nc',\n",
    "r'C:\\Users\\zhemati\\Documents\\git_zhf\\downloads\\pr_1982.nc']"
   ]
  },
  {
   "cell_type": "code",
   "execution_count": 92,
   "id": "1ab9b8a3",
   "metadata": {},
   "outputs": [],
   "source": [
    "inputs = zip(urls, fns)"
   ]
  },
  {
   "cell_type": "code",
   "execution_count": 93,
   "id": "0f552980",
   "metadata": {},
   "outputs": [],
   "source": [
    "def download_url(args):\n",
    "    t0 = time.time()\n",
    "    url, fn = args[0], args[1]\n",
    "    try:\n",
    "        r = requests.get(url)\n",
    "        with open(fn, 'wb') as f:\n",
    "            f.write(r.content)\n",
    "        return(url, time.time() - t0)\n",
    "    except Exception as e:\n",
    "        print('Exception in download_url():', e)"
   ]
  },
  {
   "cell_type": "code",
   "execution_count": 77,
   "id": "43882c97",
   "metadata": {},
   "outputs": [
    {
     "name": "stdout",
     "output_type": "stream",
     "text": [
      "url: https://www.northwestknowledge.net/metdata/data/pr_1979.nc time: 7.025955438613892\n",
      "url: https://www.northwestknowledge.net/metdata/data/pr_1980.nc time: 8.76747441291809\n",
      "url: https://www.northwestknowledge.net/metdata/data/pr_1981.nc time: 7.602313280105591\n",
      "url: https://www.northwestknowledge.net/metdata/data/pr_1982.nc time: 7.201810836791992\n",
      "Total time: 30.620519161224365\n"
     ]
    }
   ],
   "source": [
    "t0 = time.time()\n",
    "for i in inputs:\n",
    "    result = download_url(i)\n",
    "    print('url:', result[0], 'time:', result[1])\n",
    "print('Total time:', time.time() - t0)"
   ]
  },
  {
   "cell_type": "code",
   "execution_count": 94,
   "id": "a78df983",
   "metadata": {},
   "outputs": [],
   "source": [
    "def timeit(func):\n",
    "    @wraps(func)\n",
    "    def timeit_wrapper(*args, **kwargs):\n",
    "        start_time = time.perf_counter()\n",
    "        result = func(*args, **kwargs)\n",
    "        end_time = time.perf_counter()\n",
    "        total_time = end_time - start_time\n",
    "        threading.current_thread().thread_duration = end_time - start_time\n",
    "        print(f'Function {func.__name__}{args} Took {total_time:.4f} seconds')\n",
    "        return result\n",
    "    return timeit_wrapper"
   ]
  },
  {
   "cell_type": "code",
   "execution_count": 95,
   "id": "3071ca93",
   "metadata": {},
   "outputs": [
    {
     "name": "stdout",
     "output_type": "stream",
     "text": [
      "Function download_url(('https://www.northwestknowledge.net/metdata/data/pr_1981.nc', 'C:\\\\Users\\\\zhemati\\\\Documents\\\\git_zhf\\\\downloads\\\\pr_1981.nc'),) Took 12.0132 seconds\n",
      "Function download_url(('https://www.northwestknowledge.net/metdata/data/pr_1980.nc', 'C:\\\\Users\\\\zhemati\\\\Documents\\\\git_zhf\\\\downloads\\\\pr_1980.nc'),) Took 16.2444 seconds\n",
      "Function download_url(('https://www.northwestknowledge.net/metdata/data/pr_1979.nc', 'C:\\\\Users\\\\zhemati\\\\Documents\\\\git_zhf\\\\downloads\\\\pr_1979.nc'),) Took 19.3180 seconds\n",
      "Function download_url(('https://www.northwestknowledge.net/metdata/data/pr_1982.nc', 'C:\\\\Users\\\\zhemati\\\\Documents\\\\git_zhf\\\\downloads\\\\pr_1982.nc'),) Took 20.1854 seconds\n",
      "start: 23.11.2022 15:40:14  stop: 23.11.2022 15:40:34\n",
      "Total execution time: 20.237335000012536\n",
      "Decorated Threads total duration: 0\n"
     ]
    }
   ],
   "source": [
    "if __name__ == \"__main__\":\n",
    "    \n",
    "    # Capture program start time\n",
    "    start_time = time.perf_counter()\n",
    "    start = time.strftime(\"%d.%m.%Y %H:%M:%S\")\n",
    "    \n",
    "    thread_pool = list()  # container to hold threads\n",
    "    duration_from_decorator = 0\n",
    "\n",
    "\n",
    "\n",
    "    for i in inputs:\n",
    "        wrapped_worker = timeit(download_url)\n",
    "        t = threading.Thread(target=wrapped_worker, args=[i])\n",
    "        thread_pool.append(t)\n",
    "\n",
    "    for _thread in thread_pool:\n",
    "        _thread.start()\n",
    "\n",
    "\n",
    "    for _thread in thread_pool:\n",
    "        _thread.join()\n",
    "    \n",
    "    # Capture program end time\n",
    "    end_time = time.perf_counter()\n",
    "    stop = time.strftime(\"%d.%m.%Y %H:%M:%S\")\n",
    "    execution_time = end_time - start_time\n",
    "\n",
    "    print('start:', start, '', 'stop:', stop)\n",
    "    print('Total execution time:', execution_time)\n",
    "    print('Decorated Threads total duration:', duration_from_decorator)    "
   ]
  },
  {
   "cell_type": "code",
   "execution_count": null,
   "id": "e32e5a2b",
   "metadata": {},
   "outputs": [],
   "source": []
  }
 ],
 "metadata": {
  "kernelspec": {
   "display_name": "Python 3 (ipykernel)",
   "language": "python",
   "name": "python3"
  },
  "language_info": {
   "codemirror_mode": {
    "name": "ipython",
    "version": 3
   },
   "file_extension": ".py",
   "mimetype": "text/x-python",
   "name": "python",
   "nbconvert_exporter": "python",
   "pygments_lexer": "ipython3",
   "version": "3.10.6"
  }
 },
 "nbformat": 4,
 "nbformat_minor": 5
}
